{
 "cells": [
  {
   "cell_type": "markdown",
   "id": "165a09b9",
   "metadata": {},
   "source": [
    "# Competition 1: Beer Quality Prediction 🍺\n",
    "\n",
    "This notebook provides starter code for the Beer Quality Prediction competition. For full instructions, problem statement, and grading criteria, please refer to the **README.md** file.\n",
    "\n",
    "**Quick Summary**: You will build a classification model to predict beer quality (scores 1-10) based on chemical properties. Submit your predictions to [Kaggle](https://www.kaggle.com/competitions/ift-6390-ift-3395-beer-quality-prediction/)."
   ]
  },
  {
   "cell_type": "markdown",
   "id": "9c681374",
   "metadata": {},
   "source": [
    "## Import Dependencies"
   ]
  },
  {
   "cell_type": "code",
   "execution_count": 56,
   "id": "081bcd5c",
   "metadata": {},
   "outputs": [],
   "source": [
    "# Import required libraries\n",
    "import pandas as pd\n",
    "import numpy as np\n",
    "from sklearn.preprocessing import StandardScaler, LabelEncoder, OneHotEncoder\n",
    "from sklearn.pipeline import Pipeline\n",
    "from sklearn.compose import ColumnTransformer\n",
    "from sklearn.feature_selection import SelectKBest, f_classif\n",
    "from sklearn.model_selection import train_test_split\n",
    "from sklearn.ensemble import RandomForestClassifier\n",
    "from sklearn.linear_model import LogisticRegression\n",
    "from sklearn.svm import SVC\n",
    "from sklearn.metrics import accuracy_score, classification_report, confusion_matrix, ConfusionMatrixDisplay\n",
    "import matplotlib.pyplot as plt\n",
    "import seaborn as sns"
   ]
  },
  {
   "cell_type": "markdown",
   "id": "c9fb5165",
   "metadata": {},
   "source": [
    "## Load and Explore Data"
   ]
  },
  {
   "cell_type": "code",
   "execution_count": 57,
   "id": "d9820efb",
   "metadata": {},
   "outputs": [
    {
     "name": "stdout",
     "output_type": "stream",
     "text": [
      "Training data shape: (4469, 15)\n",
      "Number of samples (n): 4469\n",
      "Number of features (d): 14\n",
      "Columns: ['id', 'beer_style', 'bitterness_IBU', 'diacetyl_concentration', 'lactic_acid', 'final_gravity', 'sodium', 'free_CO2', 'dissolved_oxygen', 'original_gravity', 'pH', 'gypsum_level', 'alcohol_ABV', 'fermentation_strength', 'quality']\n",
      "\n",
      "Data types and info:\n",
      "<class 'pandas.core.frame.DataFrame'>\n",
      "RangeIndex: 4469 entries, 0 to 4468\n",
      "Data columns (total 15 columns):\n",
      " #   Column                  Non-Null Count  Dtype  \n",
      "---  ------                  --------------  -----  \n",
      " 0   id                      4469 non-null   int64  \n",
      " 1   beer_style              4469 non-null   object \n",
      " 2   bitterness_IBU          4469 non-null   float64\n",
      " 3   diacetyl_concentration  4469 non-null   float64\n",
      " 4   lactic_acid             4469 non-null   float64\n",
      " 5   final_gravity           4469 non-null   float64\n",
      " 6   sodium                  4469 non-null   float64\n",
      " 7   free_CO2                4469 non-null   float64\n",
      " 8   dissolved_oxygen        4469 non-null   float64\n",
      " 9   original_gravity        4469 non-null   float64\n",
      " 10  pH                      4469 non-null   float64\n",
      " 11  gypsum_level            4469 non-null   float64\n",
      " 12  alcohol_ABV             4469 non-null   float64\n",
      " 13  fermentation_strength   4469 non-null   float64\n",
      " 14  quality                 4469 non-null   int64  \n",
      "dtypes: float64(12), int64(2), object(1)\n",
      "memory usage: 523.8+ KB\n",
      "None\n",
      "Saved: correlation_heatmap.png\n",
      "Saved: hist_quality.png\n"
     ]
    }
   ],
   "source": [
    "train_df = pd.read_csv('data/train.csv', delimiter=';')\n",
    "\n",
    "print(f\"Training data shape: {train_df.shape}\")\n",
    "print(f\"Number of samples (n): {train_df.shape[0]}\")\n",
    "print(f\"Number of features (d): {train_df.shape[1] - 1}\")  \n",
    "print(f\"Columns: {list(train_df.columns)}\")\n",
    "\n",
    "print(\"\\nData types and info:\")\n",
    "print(train_df.info())\n",
    "\n",
    "\n",
    "plt.figure(figsize=(10, 6))\n",
    "sns.heatmap(train_df.corr(numeric_only=True), annot=True, cmap='coolwarm', fmt=\".2f\")\n",
    "plt.title('Correlation Heatmap')\n",
    "plt.savefig(\"correlation_heatmap.png\", dpi=300, bbox_inches=\"tight\")\n",
    "plt.close()\n",
    "print(\"Saved: correlation_heatmap.png\")\n",
    "\n",
    "plt.figure(figsize=(6, 4))\n",
    "sns.histplot(train_df['quality'], bins=10, kde=True, color='skyblue')\n",
    "plt.title('Beer Quality Distribution')\n",
    "plt.savefig(\"hist_quality.png\", dpi=300, bbox_inches=\"tight\")\n",
    "plt.close()\n",
    "print(\"Saved: hist_quality.png\")\n"
   ]
  },
  {
   "cell_type": "markdown",
   "id": "e937684c",
   "metadata": {},
   "source": [
    "## Data Preprocessing\n",
    "\n",
    "Implement your preprocessing pipeline (see README.md for suggestions)."
   ]
  },
  {
   "cell_type": "code",
   "execution_count": 58,
   "id": "e8c99ae2",
   "metadata": {},
   "outputs": [
    {
     "name": "stdout",
     "output_type": "stream",
     "text": [
      " Dropped 0 rows missing values.\n",
      "Original shape: (4469, 14)\n",
      "After dropping rows: (4469, 14)\n",
      "After preprocessing: (4469, 18)\n",
      "After feature selection: (4469, 14)\n"
     ]
    }
   ],
   "source": [
    "\n",
    "\n",
    "X = train_df.drop('quality', axis=1)\n",
    "y = train_df['quality']\n",
    "\n",
    "initial_rows = X.shape[0]\n",
    "X = X.dropna()\n",
    "y = y[X.index] \n",
    "dropped_rows = initial_rows - X.shape[0]\n",
    "print(f\" Dropped {dropped_rows} rows missing values.\")\n",
    "\n",
    "num_cols = X.select_dtypes(include=['int64', 'float64']).columns\n",
    "cat_cols = X.select_dtypes(include=['object']).columns\n",
    "\n",
    "numeric_pipeline = Pipeline([\n",
    "    ('scaler', StandardScaler())\n",
    "])\n",
    "\n",
    "categorical_pipeline = Pipeline([\n",
    "    ('encoder', OneHotEncoder(handle_unknown='ignore'))\n",
    "])\n",
    "\n",
    "preprocessor = ColumnTransformer(transformers=[\n",
    "    ('num', numeric_pipeline, num_cols),\n",
    "    ('cat', categorical_pipeline, cat_cols)\n",
    "])\n",
    "\n",
    "X_processed = preprocessor.fit_transform(X)\n",
    "\n",
    "selector = SelectKBest(score_func=f_classif, k=14)  \n",
    "X_selected = selector.fit_transform(X_processed, y)\n",
    "\n",
    "print(f\"Original shape: {train_df.drop('quality', axis=1).shape}\")\n",
    "print(f\"After dropping rows: {X.shape}\")\n",
    "print(f\"After preprocessing: {X_processed.shape}\")\n",
    "print(f\"After feature selection: {X_selected.shape}\")\n"
   ]
  },
  {
   "cell_type": "markdown",
   "id": "4f2c780a",
   "metadata": {},
   "source": [
    "## Prepare Training and Validation Data\n",
    "\n",
    "Split your data into training and validation sets."
   ]
  },
  {
   "cell_type": "code",
   "execution_count": 59,
   "id": "0c637078",
   "metadata": {},
   "outputs": [
    {
     "name": "stdout",
     "output_type": "stream",
     "text": [
      "Training set shape: (3575, 14), Validation set shape: (894, 14)\n",
      "Training target distribution:\n",
      "quality\n",
      "6    0.444196\n",
      "5    0.334825\n",
      "7    0.168951\n",
      "4    0.026014\n",
      "8    0.020699\n",
      "3    0.004755\n",
      "9    0.000559\n",
      "Name: proportion, dtype: float64\n",
      "Validation target distribution:\n",
      "quality\n",
      "6    0.444072\n",
      "5    0.334452\n",
      "7    0.168904\n",
      "4    0.025727\n",
      "8    0.021253\n",
      "3    0.004474\n",
      "9    0.001119\n",
      "Name: proportion, dtype: float64\n"
     ]
    }
   ],
   "source": [
    "\n",
    "X_train, X_val, y_train, y_val = train_test_split(\n",
    "    X_selected,      \n",
    "    y,                \n",
    "    test_size=0.2,    \n",
    "    random_state=42, \n",
    "    stratify=y        \n",
    ")\n",
    "\n",
    "print(f\"Training set shape: {X_train.shape}, Validation set shape: {X_val.shape}\")\n",
    "print(f\"Training target distribution:\\n{y_train.value_counts(normalize=True)}\")\n",
    "print(f\"Validation target distribution:\\n{y_val.value_counts(normalize=True)}\")\n"
   ]
  },
  {
   "cell_type": "markdown",
   "id": "e398aff1",
   "metadata": {},
   "source": [
    "## Train Models\n",
    "\n",
    "Train and compare multiple machine learning models."
   ]
  },
  {
   "cell_type": "code",
   "execution_count": 60,
   "id": "7309ada6",
   "metadata": {},
   "outputs": [
    {
     "name": "stdout",
     "output_type": "stream",
     "text": [
      "Epoch 0: Loss = 1.9442\n",
      "Epoch 100: Loss = 1.2568\n",
      "Epoch 200: Loss = 1.1481\n",
      "Epoch 300: Loss = 1.1099\n",
      "Epoch 400: Loss = 1.0903\n",
      "\n",
      "✅ Multiclass logistic regression trained via gradient descent.\n",
      "\n",
      "Validation Accuracy: 0.5369\n",
      "              precision    recall  f1-score   support\n",
      "\n",
      "           3      0.000     0.000     0.000         4\n",
      "           4      0.000     0.000     0.000        23\n",
      "           5      0.581     0.585     0.583       299\n",
      "           6      0.521     0.698     0.596       397\n",
      "           7      0.459     0.185     0.264       151\n",
      "           8      0.000     0.000     0.000        19\n",
      "           9      0.000     0.000     0.000         1\n",
      "\n",
      "    accuracy                          0.537       894\n",
      "   macro avg      0.223     0.210     0.206       894\n",
      "weighted avg      0.503     0.537     0.505       894\n",
      "\n"
     ]
    },
    {
     "data": {
      "image/png": "[encoded data removed]",
      "text/plain": [
       "<Figure size 640x480 with 2 Axes>"
      ]
     },
     "metadata": {},
     "output_type": "display_data"
    }
   ],
   "source": [
    "X_train_gd = X_train.copy()\n",
    "y_train_gd = y_train.copy()\n",
    "\n",
    "X_train_gd = np.array(X_train_gd.todense() if hasattr(X_train_gd, \"todense\") else X_train_gd)\n",
    "y_train_gd = np.array(y_train_gd)\n",
    "\n",
    "X_train_gd = np.hstack([np.ones((X_train_gd.shape[0], 1)), X_train_gd])\n",
    "\n",
    "classes = np.unique(y_train_gd)\n",
    "K = len(classes)\n",
    "N, D = X_train_gd.shape\n",
    "\n",
    "y_onehot = np.zeros((N, K))\n",
    "for i, c in enumerate(classes):\n",
    "    y_onehot[y_train_gd == c, i] = 1\n",
    "\n",
    "def softmax(z):\n",
    "    exp_z = np.exp(z - np.max(z, axis=1, keepdims=True))  # Stability\n",
    "    return exp_z / np.sum(exp_z, axis=1, keepdims=True)\n",
    "\n",
    "np.random.seed(42)\n",
    "W = np.random.randn(D, K) * 0.01\n",
    "\n",
    "learning_rate = 0.05\n",
    "num_epochs = 500\n",
    "\n",
    "for epoch in range(num_epochs):\n",
    "    logits = np.dot(X_train_gd, W)\n",
    "    probs = softmax(logits)\n",
    "    \n",
    "    loss = -np.mean(np.sum(y_onehot * np.log(probs + 1e-8), axis=1))\n",
    "    \n",
    "    grad_W = np.dot(X_train_gd.T, (probs - y_onehot)) / N\n",
    "    \n",
    "    W -= learning_rate * grad_W\n",
    "    \n",
    "    if epoch % 100 == 0:\n",
    "        print(f\"Epoch {epoch}: Loss = {loss:.4f}\")\n",
    "\n",
    "print(\"\\n✅ Multiclass logistic regression trained via gradient descent.\")\n",
    "\n",
    "X_val_gd = np.array(X_val.todense() if hasattr(X_val, \"todense\") else X_val)\n",
    "X_val_gd = np.hstack([np.ones((X_val_gd.shape[0], 1)), X_val_gd])\n",
    "\n",
    "logits_val = np.dot(X_val_gd, W)\n",
    "probs_val = softmax(logits_val)\n",
    "y_val_pred_gd = classes[np.argmax(probs_val, axis=1)]\n",
    "\n",
    "acc = accuracy_score(y_val, y_val_pred_gd)\n",
    "print(f\"\\nValidation Accuracy: {acc:.4f}\")\n",
    "print(classification_report(y_val, y_val_pred_gd, digits=3, zero_division=0))\n",
    "\n",
    "cm = confusion_matrix(y_val, y_val_pred_gd, labels=classes)\n",
    "disp = ConfusionMatrixDisplay(confusion_matrix=cm, display_labels=classes)\n",
    "disp.plot(cmap='Blues', values_format='d')\n",
    "plt.title(\"Confusion Matrix - Multiclass Logistic Regression (GD)\")\n",
    "plt.show()"
   ]
  },
  {
   "cell_type": "markdown",
   "id": "4c66c2f0",
   "metadata": {},
   "source": [
    "## Evaluate Models\n",
    "\n",
    "Analyze your best model's performance (see README.md for evaluation guidelines)."
   ]
  },
  {
   "cell_type": "code",
   "execution_count": 61,
   "id": "99ff440a",
   "metadata": {},
   "outputs": [
    {
     "name": "stdout",
     "output_type": "stream",
     "text": [
      "Training Performance\n",
      "Accuracy: 0.5547\n",
      "              precision    recall  f1-score   support\n",
      "\n",
      "           3      0.000     0.000     0.000        17\n",
      "           4      0.000     0.000     0.000        93\n",
      "           5      0.616     0.601     0.608      1197\n",
      "           6      0.526     0.718     0.607      1588\n",
      "           7      0.517     0.205     0.294       604\n",
      "           8      0.000     0.000     0.000        74\n",
      "           9      0.000     0.000     0.000         2\n",
      "\n",
      "    accuracy                          0.555      3575\n",
      "   macro avg      0.237     0.218     0.216      3575\n",
      "weighted avg      0.527     0.555     0.523      3575\n",
      "\n",
      "Validation Performance\n",
      "Accuracy: 0.5369\n",
      "              precision    recall  f1-score   support\n",
      "\n",
      "           3      0.000     0.000     0.000         4\n",
      "           4      0.000     0.000     0.000        23\n",
      "           5      0.581     0.585     0.583       299\n",
      "           6      0.521     0.698     0.596       397\n",
      "           7      0.459     0.185     0.264       151\n",
      "           8      0.000     0.000     0.000        19\n",
      "           9      0.000     0.000     0.000         1\n",
      "\n",
      "    accuracy                          0.537       894\n",
      "   macro avg      0.223     0.210     0.206       894\n",
      "weighted avg      0.503     0.537     0.505       894\n",
      "\n"
     ]
    },
    {
     "data": {
      "image/png": "[encoded data removed]",
      "text/plain": [
       "<Figure size 640x480 with 2 Axes>"
      ]
     },
     "metadata": {},
     "output_type": "display_data"
    },
    {
     "name": "stdout",
     "output_type": "stream",
     "text": [
      "Top 10 features (by avg |weight| across classes):\n",
      "Feature 1: coef magnitude = 0.2304\n",
      "Feature 13: coef magnitude = 0.2154\n",
      "Feature 9: coef magnitude = 0.2127\n",
      "Feature 10: coef magnitude = 0.1658\n",
      "Feature 11: coef magnitude = 0.1158\n",
      "Feature 12: coef magnitude = 0.1110\n",
      "Feature 8: coef magnitude = 0.1032\n",
      "Feature 3: coef magnitude = 0.0926\n",
      "Feature 4: coef magnitude = 0.0925\n",
      "Feature 5: coef magnitude = 0.0916\n"
     ]
    }
   ],
   "source": [
    "def predict(X, W, classes):\n",
    "    X_np = np.array(X.todense() if hasattr(X, \"todense\") else X)\n",
    "    X_np = np.hstack([np.ones((X_np.shape[0], 1)), X_np])\n",
    "    logits = np.dot(X_np, W)\n",
    "    probs = softmax(logits)\n",
    "    preds = classes[np.argmax(probs, axis=1)]\n",
    "    return preds\n",
    "\n",
    "y_train_pred = predict(X_train, W, classes)\n",
    "y_val_pred = predict(X_val, W, classes)\n",
    "\n",
    "print(\"Training Performance\")\n",
    "print(f\"Accuracy: {accuracy_score(y_train, y_train_pred):.4f}\")\n",
    "print(classification_report(y_train, y_train_pred, digits=3, zero_division=0))\n",
    "\n",
    "print(\"Validation Performance\")\n",
    "print(f\"Accuracy: {accuracy_score(y_val, y_val_pred):.4f}\")\n",
    "print(classification_report(y_val, y_val_pred, digits=3, zero_division=0))\n",
    "\n",
    "cm = confusion_matrix(y_val, y_val_pred, labels=classes)\n",
    "disp = ConfusionMatrixDisplay(confusion_matrix=cm, display_labels=classes)\n",
    "disp.plot(cmap='Blues', values_format='d')\n",
    "plt.title(\"Confusion Matrix\")\n",
    "plt.show()\n",
    "\n",
    "coef_abs = np.abs(W[1:, :]).mean(axis=1) \n",
    "top_idx = np.argsort(coef_abs)[::-1][:10]\n",
    "\n",
    "print(\"Top 10 features (by avg |weight| across classes):\")\n",
    "for i in top_idx:\n",
    "    print(f\"Feature {i}: coef magnitude = {coef_abs[i]:.4f}\")\n"
   ]
  },
  {
   "cell_type": "markdown",
   "id": "cc82b401",
   "metadata": {},
   "source": [
    "## Generate Predictions for Kaggle Submission\n",
    "\n",
    "Create a CSV file with columns: `id` and `quality` (see README.md for format details)."
   ]
  },
  {
   "cell_type": "code",
   "execution_count": 62,
   "id": "c2e48bae",
   "metadata": {},
   "outputs": [],
   "source": [
    "test_df = pd.read_csv('data/test.csv', delimiter=';')\n",
    "\n",
    "test_df = test_df.dropna()\n",
    "\n",
    "ids = test_df['id']\n",
    "\n",
    "X_test = test_df.drop(columns=['quality'], errors='ignore')\n",
    "\n",
    "X_test_processed = preprocessor.transform(X_test)\n",
    "X_test_processed = selector.transform(X_test_processed)\n",
    "\n",
    "X_test_processed = np.array(X_test_processed.todense() if hasattr(X_test_processed, \"todense\") else X_test_processed)\n",
    "X_test_bias = np.hstack([np.ones((X_test_processed.shape[0], 1)), X_test_processed])\n",
    "\n",
    "logits_test = np.dot(X_test_bias, W)\n",
    "probs_test = np.exp(logits_test - np.max(logits_test, axis=1, keepdims=True))\n",
    "probs_test /= np.sum(probs_test, axis=1, keepdims=True)\n",
    "\n",
    "y_test_pred = classes[np.argmax(probs_test, axis=1)]\n",
    "\n",
    "submission = pd.DataFrame({\n",
    "    'id': ids,\n",
    "    'quality': y_test_pred\n",
    "})\n",
    "\n",
    "submission.to_csv('submission.csv', index=False)"
   ]
  },
  {
   "cell_type": "markdown",
   "id": "92643d8c",
   "metadata": {},
   "source": [
    "---\n",
    "Good luck with the competition! 🍺\n"
   ]
  }
 ],
 "metadata": {
  "kernelspec": {
   "display_name": "3395-competition1",
   "language": "python",
   "name": "python3"
  },
  "language_info": {
   "codemirror_mode": {
    "name": "ipython",
    "version": 3
   },
   "file_extension": ".py",
   "mimetype": "text/x-python",
   "name": "python",
   "nbconvert_exporter": "python",
   "pygments_lexer": "ipython3",
   "version": "3.11.12"
  }
 },
 "nbformat": 4,
 "nbformat_minor": 5
}
